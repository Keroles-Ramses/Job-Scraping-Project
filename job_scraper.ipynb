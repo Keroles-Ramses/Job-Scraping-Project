{
 "cells": [
  {
   "cell_type": "code",
   "execution_count": null,
   "metadata": {},
   "outputs": [],
   "source": [
    "\n",
    "import pandas as pd\n",
    "from selenium import webdriver\n",
    "import csv"
   ]
  },
  {
   "cell_type": "code",
   "execution_count": null,
   "metadata": {},
   "outputs": [],
   "source": [
    "# Initialize the Chrome WebDriver\n",
    "webframe=webdriver.Chrome()"
   ]
  },
  {
   "cell_type": "code",
   "execution_count": null,
   "metadata": {},
   "outputs": [],
   "source": [
    "# Get search term and number of pages to scrape from the user\n",
    "Search=input(\"please insert what you want to search\")\n",
    "R=int(input(\"please insert how many page you want\"))\n",
    "csv_file_name = f\"{Search}.csv\" # Create a CSV file name based on the search term"
   ]
  },
  {
   "cell_type": "code",
   "execution_count": null,
   "metadata": {},
   "outputs": [],
   "source": [
    "# Initialize lists to hold job data\n",
    "s=0\n",
    "t_job=[]\n",
    "Com_name=[]\n",
    "com_place=[]\n",
    "J_time=[]\n",
    "j_col=[]\n",
    "# Loop through each page of search results\n",
    "for s in range (R) :\n",
    " \n",
    " # Build the URL for the current page and load it\n",
    " url=f\"https://wuzzuf.net/search/jobs/?a=hpb&q={Search}&start={s+1}\"\n",
    " webframe.get(url)\n",
    "\n",
    " # Extract job titles, company names, company locations, job times, and job descriptions\n",
    " title_jobs=webframe.find_elements(\"xpath\" , '//h2[@class=\"css-m604qf\"]')\n",
    " Company_Name=webframe.find_elements(\"xpath\" , '//a[@class=\"css-17s97q8\"]')\n",
    " Company_place=webframe.find_elements(\"xpath\" , '//span[@class=\"css-5wys0k\"]')\n",
    " Job_time=webframe.find_elements(\"xpath\" , '//div[@class=\"css-do6t5g\"]')\n",
    " job_col=webframe.find_elements(\"xpath\",'//div[@class=\"css-y4udm8\"]')\n",
    "\n",
    " # Append the extracted data to the respective lists\n",
    " for t in title_jobs:\n",
    "   t_job.append(t.text)\n",
    " for t in Company_Name:\n",
    "   Com_name.append(t.text)\n",
    " for t in Company_place:\n",
    "   com_place.append(t.text)\n",
    " for t in Job_time:\n",
    "   J_time.append(t.text)\n",
    " for t in job_col:\n",
    "   j_col.append(t.text)\n",
    " \n",
    " s+=1  # Increment the page counter\n",
    "\n"
   ]
  },
  {
   "cell_type": "code",
   "execution_count": null,
   "metadata": {},
   "outputs": [],
   "source": [
    "# Open the CSV file for writing and save the extracted data\n",
    "with open(csv_file_name, 'w', newline='',encoding='UTF-8') as csv_file:\n",
    "\n",
    "    # Create a CSV writer object\n",
    "    csv_writer = csv.writer(csv_file)\n",
    "\n",
    "    # Write the header row\n",
    "    title=csv_writer.writerow([\"Time\",\"Job Title\", \"Company Name\", \"Company place\", \"Description\"])\n",
    "\n",
    "    # Combine the data into rows\n",
    "    rows = zip(J_time,t_job,Com_name,com_place,j_col)\n",
    "    \n",
    "    # Iterate over the rows and write them to the CSV file\n",
    "    for row in rows:\n",
    "        csv_writer.writerow([elem for elem in row])\n",
    "      \n",
    " \n",
    "print(f\"Data has been saved to {csv_file_name}\")"
   ]
  },
  {
   "cell_type": "code",
   "execution_count": null,
   "metadata": {},
   "outputs": [],
   "source": [
    "# Load the saved CSV file into a DataFrame\n",
    "df=pd.read_csv(f\"{csv_file_name}\")\n",
    "df.head()"
   ]
  },
  {
   "cell_type": "code",
   "execution_count": null,
   "metadata": {},
   "outputs": [],
   "source": [
    "# Split the 'Description' column into two new columns based on the first newline\n",
    "df_split = df['Description'].str.split('\\n',n=1, expand=True)\n",
    "df_split.head()"
   ]
  },
  {
   "cell_type": "code",
   "execution_count": null,
   "metadata": {},
   "outputs": [],
   "source": [
    "# Further split the second column into 'job stat' and 'Experience'\n",
    "df_split[['job stat','Experince']] = df_split[1].str.split('\\n',n=1, expand=True)\n",
    "df_split.drop(df_split.columns[1],axis=1,inplace=True) # Drop the now redundant column\n",
    "df_split.head()\n"
   ]
  },
  {
   "cell_type": "code",
   "execution_count": null,
   "metadata": {},
   "outputs": [],
   "source": [
    "# Combine the first two columns into a new 'Job Stat' column and drop the old columns\n",
    "df_split['Job Stat'] = df_split[0] +' '+ df_split['job stat']\n",
    "df_split.drop([0,'job stat'],axis=1,inplace=True)\n",
    "df_split.head()"
   ]
  },
  {
   "cell_type": "code",
   "execution_count": null,
   "metadata": {},
   "outputs": [],
   "source": [
    "# Split the 'Experience' column into three new columns\n",
    "x = df_split['Experince'].str.split('·',n=2, expand=True)\n",
    "x.head()"
   ]
  },
  {
   "cell_type": "code",
   "execution_count": null,
   "metadata": {},
   "outputs": [],
   "source": [
    "# Drop the original 'Experience' column and concatenate the new columns with the DataFrame\n",
    "df_split.drop(['Experince'],axis=1,inplace=True)\n",
    "df_split=pd.concat ([df_split,x],axis=1)\n",
    "df_split.head()"
   ]
  },
  {
   "cell_type": "code",
   "execution_count": null,
   "metadata": {},
   "outputs": [],
   "source": [
    "# Combine the first two columns into a new 'Experience' column and drop the old columns\n",
    "df_split['Experience'] = df_split[0] +' '+ df_split[1]\n",
    "df_split.drop([0,1],axis=1,inplace=True)\n",
    "df_split.head()"
   ]
  },
  {
   "cell_type": "code",
   "execution_count": null,
   "metadata": {},
   "outputs": [],
   "source": [
    "# Split the third column into 'Categories' and 'Skills' columns\n",
    "df_split[['Categories','Skills']] = df_split[2].str.split('\\n',n=1, expand=True)\n",
    "df_split.drop(df_split.columns[1],axis=1,inplace=True)\n",
    "df_split.head()"
   ]
  },
  {
   "cell_type": "code",
   "execution_count": null,
   "metadata": {},
   "outputs": [],
   "source": [
    "# Drop the original 'Description' column and concatenate the split DataFrame with the original DataFrame\n",
    "df.drop(['Description'],axis=1,inplace=True)\n",
    "df=pd.concat ([df,df_split],axis=1)\n",
    "df.head()"
   ]
  },
  {
   "cell_type": "code",
   "execution_count": null,
   "metadata": {},
   "outputs": [],
   "source": [
    "# Clean up the text in 'Company Name', 'Categories', 'Skills', and 'Experience' columns\n",
    "df['Company Name'] = df['Company Name'].str.replace('-', '').str.strip()\n",
    "df['Categories'] = df['Categories'].str.replace('·', '-').str.strip()\n",
    "df['Skills'] = df['Skills'].str.replace('·', ' ').str.strip()\n",
    "df['Experience'] = df['Experience'].str.replace('On-site', '', regex=False).str.strip()\n",
    "df['Experience'] = df['Experience'].str.replace('IT/Software Development', '', regex=False).str.strip()\n",
    "df['Skills'] = df['Skills'].str.replace('\\n\\n', '', regex=False).str.strip()\n",
    "df.head()"
   ]
  },
  {
   "cell_type": "code",
   "execution_count": null,
   "metadata": {},
   "outputs": [],
   "source": [
    "# Function to clean and order content in each cell\n",
    "def clean_and_order_text(text):\n",
    "    # Split by newlines and strip each part\n",
    "    parts = [part.strip() for part in text.split('\\n') if part.strip()]\n",
    "    \n",
    "    # Sort the parts alphabetically (optional, if ordering is needed)\n",
    "    parts.sort()\n",
    "    \n",
    "    # Join the parts back into a single string with a single newline\n",
    "    return '\\n'.join(parts)\n",
    "\n",
    "# Apply the function to the 'Description' column\n",
    "df['Skills'] = df['Skills'].apply(clean_and_order_text)\n",
    "df.head()\n"
   ]
  },
  {
   "cell_type": "code",
   "execution_count": null,
   "metadata": {},
   "outputs": [],
   "source": [
    "# Save the cleaned DataFrame back to a CSV file\n",
    "df.to_csv(f\"{Search}.csv\", index=False)"
   ]
  },
  {
   "cell_type": "code",
   "execution_count": null,
   "metadata": {},
   "outputs": [],
   "source": []
  }
 ],
 "metadata": {
  "kernelspec": {
   "display_name": "Python 3",
   "language": "python",
   "name": "python3"
  },
  "language_info": {
   "codemirror_mode": {
    "name": "ipython",
    "version": 3
   },
   "file_extension": ".py",
   "mimetype": "text/x-python",
   "name": "python",
   "nbconvert_exporter": "python",
   "pygments_lexer": "ipython3",
   "version": "3.12.4"
  }
 },
 "nbformat": 4,
 "nbformat_minor": 2
}
